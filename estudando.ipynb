{
  "nbformat": 4,
  "nbformat_minor": 0,
  "metadata": {
    "colab": {
      "provenance": [],
      "authorship_tag": "ABX9TyMT4F+hRritDdvXTlDQJzEB",
      "include_colab_link": true
    },
    "kernelspec": {
      "name": "python3",
      "display_name": "Python 3"
    },
    "language_info": {
      "name": "python"
    }
  },
  "cells": [
    {
      "cell_type": "markdown",
      "metadata": {
        "id": "view-in-github",
        "colab_type": "text"
      },
      "source": [
        "<a href=\"https://colab.research.google.com/github/pablo23pr/logica-progama--o/blob/main/estudando.ipynb\" target=\"_parent\"><img src=\"https://colab.research.google.com/assets/colab-badge.svg\" alt=\"Open In Colab\"/></a>"
      ]
    },
    {
      "cell_type": "code",
      "source": [
        "print( 10 > 20 and 4 < 2)  # f and f - f\n",
        "print( 4 < 5   and 6 > 2)  # v and v - v\n",
        "print( 7 < 9  and 10 > 2)  # v and v - v"
      ],
      "metadata": {
        "colab": {
          "base_uri": "https://localhost:8080/"
        },
        "id": "d4QarqufMg_j",
        "outputId": "67ce332d-044e-4216-956c-9ed17e7d60f4"
      },
      "execution_count": null,
      "outputs": [
        {
          "output_type": "stream",
          "name": "stdout",
          "text": [
            "False\n",
            "True\n",
            "True\n"
          ]
        }
      ]
    },
    {
      "cell_type": "code",
      "source": [
        "not 10 > 2"
      ],
      "metadata": {
        "colab": {
          "base_uri": "https://localhost:8080/"
        },
        "id": "qTt0JduqN2_l",
        "outputId": "2d928286-244c-42c0-c7f5-c90e1856aee2"
      },
      "execution_count": null,
      "outputs": [
        {
          "output_type": "execute_result",
          "data": {
            "text/plain": [
              "False"
            ]
          },
          "metadata": {},
          "execution_count": 4
        }
      ]
    },
    {
      "cell_type": "markdown",
      "source": [
        "and"
      ],
      "metadata": {
        "id": "DLbEc74FOHuM"
      }
    },
    {
      "cell_type": "code",
      "source": [
        "print( 50 > 4 and 10 < 20 )  # v and v - v\n",
        "print( 3 > 6 and 8 < 7 )  # f and f - f\n"
      ],
      "metadata": {
        "colab": {
          "base_uri": "https://localhost:8080/"
        },
        "id": "9RAxA0x-OU6N",
        "outputId": "4b55478d-9137-436c-9489-702e5f31a7a4"
      },
      "execution_count": null,
      "outputs": [
        {
          "output_type": "stream",
          "name": "stdout",
          "text": [
            "True\n",
            "False\n"
          ]
        }
      ]
    },
    {
      "cell_type": "markdown",
      "source": [],
      "metadata": {
        "id": "2sGxUBksPVxV"
      }
    },
    {
      "cell_type": "markdown",
      "source": [
        "not"
      ],
      "metadata": {
        "id": "MFWCUaU-PSsg"
      }
    },
    {
      "cell_type": "code",
      "source": [
        "not 10 > 5"
      ],
      "metadata": {
        "colab": {
          "base_uri": "https://localhost:8080/"
        },
        "id": "Ga-izO0dPXYT",
        "outputId": "55f1f8fb-75ac-480d-882f-cb29925a82e8"
      },
      "execution_count": null,
      "outputs": [
        {
          "output_type": "execute_result",
          "data": {
            "text/plain": [
              "False"
            ]
          },
          "metadata": {},
          "execution_count": 6
        }
      ]
    },
    {
      "cell_type": "markdown",
      "source": [
        "Operadores Aritiméticos"
      ],
      "metadata": {
        "id": "Gy_SWl43CHpo"
      }
    },
    {
      "cell_type": "code",
      "source": [],
      "metadata": {
        "id": "nAm43DQTEXmd"
      },
      "execution_count": null,
      "outputs": []
    },
    {
      "cell_type": "code",
      "source": [
        "#Adição\n",
        "10+5"
      ],
      "metadata": {
        "colab": {
          "base_uri": "https://localhost:8080/"
        },
        "id": "lWWzqub4C3HQ",
        "outputId": "f8dd4731-e43b-483a-cb9e-bba835a52d31"
      },
      "execution_count": null,
      "outputs": [
        {
          "output_type": "execute_result",
          "data": {
            "text/plain": [
              "15"
            ]
          },
          "metadata": {},
          "execution_count": 7
        }
      ]
    },
    {
      "cell_type": "code",
      "source": [
        "#Divisão inteira\n",
        "50//8"
      ],
      "metadata": {
        "colab": {
          "base_uri": "https://localhost:8080/"
        },
        "id": "uFhcOl0HEzVR",
        "outputId": "a7ea55f4-4e84-48c5-84de-37ace44912bc"
      },
      "execution_count": null,
      "outputs": [
        {
          "output_type": "execute_result",
          "data": {
            "text/plain": [
              "6"
            ]
          },
          "metadata": {},
          "execution_count": 10
        }
      ]
    },
    {
      "cell_type": "code",
      "source": [
        "20/2"
      ],
      "metadata": {
        "colab": {
          "base_uri": "https://localhost:8080/"
        },
        "id": "qkynkpowFblG",
        "outputId": "5cd27c32-52d1-4237-c9b7-7193d6346eb6"
      },
      "execution_count": null,
      "outputs": [
        {
          "output_type": "execute_result",
          "data": {
            "text/plain": [
              "10.0"
            ]
          },
          "metadata": {},
          "execution_count": 11
        }
      ]
    },
    {
      "cell_type": "code",
      "source": [
        "#Mutiplicação\n",
        "10 * 2"
      ],
      "metadata": {
        "colab": {
          "base_uri": "https://localhost:8080/"
        },
        "id": "F-QUKZQbFkwt",
        "outputId": "dc6600c8-dd0c-40d4-ee71-7bc27c615414"
      },
      "execution_count": null,
      "outputs": [
        {
          "output_type": "execute_result",
          "data": {
            "text/plain": [
              "20"
            ]
          },
          "metadata": {},
          "execution_count": 12
        }
      ]
    },
    {
      "cell_type": "code",
      "source": [
        "#Subitração\n",
        "20-5"
      ],
      "metadata": {
        "colab": {
          "base_uri": "https://localhost:8080/"
        },
        "id": "rsvFiyY1F9kV",
        "outputId": "bd4caff0-9026-4205-b06b-5d3829996cce"
      },
      "execution_count": null,
      "outputs": [
        {
          "output_type": "execute_result",
          "data": {
            "text/plain": [
              "15"
            ]
          },
          "metadata": {},
          "execution_count": 13
        }
      ]
    },
    {
      "cell_type": "code",
      "source": [
        "#Potenciação\n",
        "20**2"
      ],
      "metadata": {
        "colab": {
          "base_uri": "https://localhost:8080/"
        },
        "id": "mTSZ8VK6GUal",
        "outputId": "293d2989-9cd2-4feb-a5e7-eb6047e94826"
      },
      "execution_count": null,
      "outputs": [
        {
          "output_type": "execute_result",
          "data": {
            "text/plain": [
              "400"
            ]
          },
          "metadata": {},
          "execution_count": 15
        }
      ]
    },
    {
      "cell_type": "code",
      "source": [
        "#Resto da Divisão\n",
        "10%3"
      ],
      "metadata": {
        "colab": {
          "base_uri": "https://localhost:8080/"
        },
        "id": "51mdlD9rHDt6",
        "outputId": "f1582d42-f1e2-4405-c767-4254c9d85b6d"
      },
      "execution_count": null,
      "outputs": [
        {
          "output_type": "execute_result",
          "data": {
            "text/plain": [
              "1"
            ]
          },
          "metadata": {},
          "execution_count": 16
        }
      ]
    },
    {
      "cell_type": "markdown",
      "source": [
        "Operadores Racionais"
      ],
      "metadata": {
        "id": "yQIsj0r_HVD6"
      }
    },
    {
      "cell_type": "code",
      "source": [
        "#Maior\n",
        "5 > 3"
      ],
      "metadata": {
        "colab": {
          "base_uri": "https://localhost:8080/"
        },
        "id": "zDtaWd-BHhk0",
        "outputId": "a70035f1-5550-432f-b47d-d72f426d766e"
      },
      "execution_count": null,
      "outputs": [
        {
          "output_type": "execute_result",
          "data": {
            "text/plain": [
              "True"
            ]
          },
          "metadata": {},
          "execution_count": 17
        }
      ]
    },
    {
      "cell_type": "code",
      "source": [
        "# menor\n",
        "10 < 5"
      ],
      "metadata": {
        "colab": {
          "base_uri": "https://localhost:8080/"
        },
        "id": "Zl7YqYA9H3tJ",
        "outputId": "6b68de72-0f50-4cff-c8d1-1f495b59c76a"
      },
      "execution_count": null,
      "outputs": [
        {
          "output_type": "execute_result",
          "data": {
            "text/plain": [
              "False"
            ]
          },
          "metadata": {},
          "execution_count": 18
        }
      ]
    },
    {
      "cell_type": "code",
      "source": [
        "# maior ou Diferente\n",
        "10 != 4"
      ],
      "metadata": {
        "colab": {
          "base_uri": "https://localhost:8080/"
        },
        "id": "lTRll_dvIEC3",
        "outputId": "45aa45e3-e770-4b1b-b3eb-19696c852e6c"
      },
      "execution_count": null,
      "outputs": [
        {
          "output_type": "execute_result",
          "data": {
            "text/plain": [
              "True"
            ]
          },
          "metadata": {},
          "execution_count": 19
        }
      ]
    },
    {
      "cell_type": "code",
      "source": [
        "# Maior ou igual\n",
        "10 <=2"
      ],
      "metadata": {
        "colab": {
          "base_uri": "https://localhost:8080/"
        },
        "id": "K9vNTYYnIbOE",
        "outputId": "7cc14bc4-a0f1-4cd5-cda0-720269a549b5"
      },
      "execution_count": null,
      "outputs": [
        {
          "output_type": "execute_result",
          "data": {
            "text/plain": [
              "False"
            ]
          },
          "metadata": {},
          "execution_count": 32
        }
      ]
    },
    {
      "cell_type": "code",
      "source": [
        "# no nome da variável é 'x'  que armazena o valor 10 no espaço da memória\n",
        "x=10\n",
        "print(x) # Escreva a referencia no nome atribuido"
      ],
      "metadata": {
        "id": "Q8NXdaToGa7N",
        "colab": {
          "base_uri": "https://localhost:8080/"
        },
        "outputId": "09a9302e-325f-4adc-8197-9e1df909147e"
      },
      "execution_count": null,
      "outputs": [
        {
          "output_type": "stream",
          "name": "stdout",
          "text": [
            "10\n"
          ]
        }
      ]
    },
    {
      "cell_type": "code",
      "source": [
        "print(' conhecendo as variavél')\n",
        "x=8\n",
        "print(x)"
      ],
      "metadata": {
        "colab": {
          "base_uri": "https://localhost:8080/"
        },
        "id": "RNc7WnMOrOEn",
        "outputId": "0791368e-27c6-4ad9-b14f-de45ef1c74f7"
      },
      "execution_count": null,
      "outputs": [
        {
          "output_type": "stream",
          "name": "stdout",
          "text": [
            " conhecendo as variavél\n",
            "8\n"
          ]
        }
      ]
    },
    {
      "cell_type": "code",
      "source": [
        "nome = ('pablo alexsandro ')\n",
        "print(nome)\n",
        "print('eu,',nome,'tirei a dúvida dele')"
      ],
      "metadata": {
        "colab": {
          "base_uri": "https://localhost:8080/"
        },
        "id": "H7TFtBITsOEP",
        "outputId": "83c505a5-b87a-4213-af51-d25bb4ad1291"
      },
      "execution_count": null,
      "outputs": [
        {
          "output_type": "stream",
          "name": "stdout",
          "text": [
            "pablo alexsandro \n",
            "eu, pablo alexsandro  tirei a dúvida dele\n"
          ]
        }
      ]
    },
    {
      "cell_type": "code",
      "source": [
        "x=9\n",
        "print(' a variavél é, igual a',x,)"
      ],
      "metadata": {
        "colab": {
          "base_uri": "https://localhost:8080/"
        },
        "id": "sIfz23tktu_P",
        "outputId": "0e622ddf-1e82-428b-a90d-ce45bd295c0a"
      },
      "execution_count": null,
      "outputs": [
        {
          "output_type": "stream",
          "name": "stdout",
          "text": [
            " a variavél é, igual a 9\n"
          ]
        }
      ]
    },
    {
      "cell_type": "code",
      "source": [
        "x=10\n",
        "print('eu,',nome,'tenho ',x,'  pra dividi com meus amigos')\n",
        "print('quanto que cada um vai receber depois que eu dividir',x,'reais , pra dois? cada um vai receber ',x//2,)"
      ],
      "metadata": {
        "colab": {
          "base_uri": "https://localhost:8080/"
        },
        "id": "iy4Ou4zFvP2W",
        "outputId": "a4cbab33-f9b6-49a9-de79-8803ce94cca8"
      },
      "execution_count": null,
      "outputs": [
        {
          "output_type": "stream",
          "name": "stdout",
          "text": [
            "eu, pablo alexsandro  tenho  10   pra dividi com meus amigos\n",
            "quanto que cada um vai receber depois que eu dividir 10 reais , pra dois? cada um vai receber  5\n"
          ]
        }
      ]
    },
    {
      "cell_type": "code",
      "source": [
        "print(' conhecendo as variavél')\n",
        "x = 8\n",
        "print(x)\n",
        "\n",
        "\n"
      ],
      "metadata": {
        "colab": {
          "base_uri": "https://localhost:8080/"
        },
        "id": "CJD8NaG65odv",
        "outputId": "511f96e7-c7ca-49e0-c3f8-94bf11306ca2"
      },
      "execution_count": null,
      "outputs": [
        {
          "output_type": "stream",
          "name": "stdout",
          "text": [
            " conhecendo as variavél\n",
            "8\n"
          ]
        }
      ]
    },
    {
      "cell_type": "code",
      "source": [
        "\n",
        "y = 10\n",
        "Soma = x + y\n",
        "print(Soma)"
      ],
      "metadata": {
        "colab": {
          "base_uri": "https://localhost:8080/"
        },
        "id": "n7LqaUI062o_",
        "outputId": "35e5aa31-111a-4f78-9bf4-86fdb0a0ee2d"
      },
      "execution_count": null,
      "outputs": [
        {
          "output_type": "stream",
          "name": "stdout",
          "text": [
            "18\n"
          ]
        }
      ]
    },
    {
      "cell_type": "code",
      "source": [
        "x = 20\n",
        "\n",
        "print( 'O valor é ',x,)"
      ],
      "metadata": {
        "colab": {
          "base_uri": "https://localhost:8080/"
        },
        "id": "JUtcUhpB8gLS",
        "outputId": "7d0ca640-0c20-4d7a-b6e2-ba33e4ce0dbc"
      },
      "execution_count": null,
      "outputs": [
        {
          "output_type": "stream",
          "name": "stdout",
          "text": [
            "O valor é  20\n"
          ]
        }
      ]
    },
    {
      "cell_type": "code",
      "source": [
        "print( 'Declarar a variavél',x, 'Dividido por dois é ',x//2,)"
      ],
      "metadata": {
        "colab": {
          "base_uri": "https://localhost:8080/"
        },
        "id": "XH0TmDjS9si4",
        "outputId": "3e80ec03-62b8-48eb-8f05-b640e6a4cf1f"
      },
      "execution_count": null,
      "outputs": [
        {
          "output_type": "stream",
          "name": "stdout",
          "text": [
            "Declarar a variavél 20 Dividido por dois é  10\n"
          ]
        }
      ]
    },
    {
      "cell_type": "code",
      "source": [
        "print(' O valor de 10 que soma',10 * 2,)"
      ],
      "metadata": {
        "colab": {
          "base_uri": "https://localhost:8080/"
        },
        "id": "94vTbf_M-md1",
        "outputId": "76531730-76df-44c0-eb6b-cc7331b65630"
      },
      "execution_count": null,
      "outputs": [
        {
          "output_type": "stream",
          "name": "stdout",
          "text": [
            " O valor de 10 que soma 20\n"
          ]
        }
      ]
    },
    {
      "cell_type": "code",
      "source": [
        "40//3"
      ],
      "metadata": {
        "colab": {
          "base_uri": "https://localhost:8080/"
        },
        "id": "VNaR_iQLGbfV",
        "outputId": "26c2b7a8-8145-40cf-aa8d-5a1c6f63bac4"
      },
      "execution_count": null,
      "outputs": [
        {
          "output_type": "execute_result",
          "data": {
            "text/plain": [
              "13"
            ]
          },
          "metadata": {},
          "execution_count": 1
        }
      ]
    },
    {
      "cell_type": "code",
      "source": [
        "print('estudando as variavéld')\n",
        "y = 10\n",
        "print(' a variavél é ',y, ' que mutiplicado por dois é',y * 2,)"
      ],
      "metadata": {
        "colab": {
          "base_uri": "https://localhost:8080/"
        },
        "id": "ESnvg1K5Gn48",
        "outputId": "fa50b5f2-27ab-4cc7-dcec-2ddf895807a2"
      },
      "execution_count": null,
      "outputs": [
        {
          "output_type": "stream",
          "name": "stdout",
          "text": [
            "estudando as variavéld\n",
            " a variavél é  10  que mutiplicado por dois é 20\n"
          ]
        }
      ]
    },
    {
      "cell_type": "code",
      "source": [
        "print('pablo alexsamdro')"
      ],
      "metadata": {
        "colab": {
          "base_uri": "https://localhost:8080/"
        },
        "id": "A0NKMQXjJnKq",
        "outputId": "8e1fc7de-8038-43cb-ecfc-fcfb588b1668"
      },
      "execution_count": null,
      "outputs": [
        {
          "output_type": "stream",
          "name": "stdout",
          "text": [
            "pablo alexsamdro\n"
          ]
        }
      ]
    },
    {
      "cell_type": "code",
      "source": [
        "Nome = ('pablo alexsanddro')\n",
        "x = 50\n",
        "print('eu,',Nome,'tenho ',x, 'para dividir com dois amigos')\n",
        "print(' quanto que vai da',x, 'dividido pra dois?')\n",
        "print('cada um vai receber',x // 2,)"
      ],
      "metadata": {
        "colab": {
          "base_uri": "https://localhost:8080/"
        },
        "id": "NWM-sCDQHuMa",
        "outputId": "4eedbb67-5b89-48d8-c852-da6cb82c2a82"
      },
      "execution_count": null,
      "outputs": [
        {
          "output_type": "stream",
          "name": "stdout",
          "text": [
            "eu, pablo alexsanddro tenho  50 para dividir com dois amigos\n",
            " quanto que vai da 50 dividido pra dois?\n",
            "cada um vai receber 25\n"
          ]
        }
      ]
    },
    {
      "cell_type": "code",
      "source": [
        "# Maior ou Menor\n",
        "10>20"
      ],
      "metadata": {
        "colab": {
          "base_uri": "https://localhost:8080/"
        },
        "id": "-Uzgb3GSLWfa",
        "outputId": "16c32b3f-5e66-40db-873e-db0e1ac27462"
      },
      "execution_count": null,
      "outputs": [
        {
          "output_type": "execute_result",
          "data": {
            "text/plain": [
              "False"
            ]
          },
          "metadata": {},
          "execution_count": 17
        }
      ]
    },
    {
      "cell_type": "code",
      "source": [
        "print( 10 < 20 and 40 > 5) # v and v - v"
      ],
      "metadata": {
        "colab": {
          "base_uri": "https://localhost:8080/"
        },
        "id": "WLRbO5C9Lqx0",
        "outputId": "047facb2-04a4-46ca-8cef-cbf9fa41ab2c"
      },
      "execution_count": null,
      "outputs": [
        {
          "output_type": "stream",
          "name": "stdout",
          "text": [
            "True\n"
          ]
        }
      ]
    },
    {
      "cell_type": "code",
      "source": [
        "x=10\n",
        "type(x)"
      ],
      "metadata": {
        "colab": {
          "base_uri": "https://localhost:8080/"
        },
        "id": "tRuiptZV5zvL",
        "outputId": "2d3b7c5e-7f40-463e-d9e1-24206a7250e9"
      },
      "execution_count": null,
      "outputs": [
        {
          "output_type": "execute_result",
          "data": {
            "text/plain": [
              "int"
            ]
          },
          "metadata": {},
          "execution_count": 1
        }
      ]
    },
    {
      "cell_type": "code",
      "source": [
        "num='200'\n",
        "num_convert=int(num)\n",
        "print('num',type(num))\n",
        "print('num_convert',type(num))\n",
        "num_float=float(num)\n",
        "print('num_float',num_float)"
      ],
      "metadata": {
        "colab": {
          "base_uri": "https://localhost:8080/"
        },
        "id": "fp6UB-mz8kq7",
        "outputId": "6bebabab-6bf4-475f-b9ae-9e3b2f1c0a5e"
      },
      "execution_count": null,
      "outputs": [
        {
          "output_type": "stream",
          "name": "stdout",
          "text": [
            "num <class 'str'>\n",
            "num_convert <class 'str'>\n",
            "num_float 200.0\n"
          ]
        }
      ]
    },
    {
      "cell_type": "code",
      "source": [
        "num='100'\n",
        "num_convert=int(num)\n",
        "print('num_convert',type(num_convert))\n",
        "num_float=float(num)\n",
        "print('num_float',num_float)\n",
        "\n"
      ],
      "metadata": {
        "colab": {
          "base_uri": "https://localhost:8080/"
        },
        "id": "mlFDmEtZhSHr",
        "outputId": "8f539e2d-c33e-4165-cff1-5897f571f1d5"
      },
      "execution_count": null,
      "outputs": [
        {
          "output_type": "stream",
          "name": "stdout",
          "text": [
            "num_convert <class 'int'>\n",
            "num_float 100.0\n"
          ]
        }
      ]
    },
    {
      "cell_type": "code",
      "source": [
        "#Maior ou Menor\n",
        "10 > 4 - 8 < 20"
      ],
      "metadata": {
        "colab": {
          "base_uri": "https://localhost:8080/"
        },
        "id": "um3-eJGVi1pB",
        "outputId": "09021db2-0f4e-42bb-fa1f-7477035f6348"
      },
      "execution_count": null,
      "outputs": [
        {
          "output_type": "execute_result",
          "data": {
            "text/plain": [
              "True"
            ]
          },
          "metadata": {},
          "execution_count": 6
        }
      ]
    },
    {
      "cell_type": "code",
      "source": [
        "# Diferente ou Igual\n",
        "5 != 5"
      ],
      "metadata": {
        "colab": {
          "base_uri": "https://localhost:8080/"
        },
        "id": "GILI4puNjOCB",
        "outputId": "f2ecb7da-cacb-436e-8fcd-ebb19a48cca1"
      },
      "execution_count": null,
      "outputs": [
        {
          "output_type": "execute_result",
          "data": {
            "text/plain": [
              "False"
            ]
          },
          "metadata": {},
          "execution_count": 8
        }
      ]
    },
    {
      "cell_type": "code",
      "source": [
        "print(19 > 10 and 40 < 60)"
      ],
      "metadata": {
        "colab": {
          "base_uri": "https://localhost:8080/"
        },
        "id": "cqt0UA_-jiKF",
        "outputId": "4b655879-986d-4434-d881-d04b3488502d"
      },
      "execution_count": null,
      "outputs": [
        {
          "output_type": "stream",
          "name": "stdout",
          "text": [
            "True\n"
          ]
        }
      ]
    },
    {
      "cell_type": "code",
      "source": [
        "not(5 > 2)"
      ],
      "metadata": {
        "colab": {
          "base_uri": "https://localhost:8080/"
        },
        "id": "l8my4u5Jj5M1",
        "outputId": "33bf10ef-c075-4242-9dab-74d01fc6c98c"
      },
      "execution_count": null,
      "outputs": [
        {
          "output_type": "execute_result",
          "data": {
            "text/plain": [
              "False"
            ]
          },
          "metadata": {},
          "execution_count": 10
        }
      ]
    },
    {
      "cell_type": "code",
      "source": [
        "#Subitração\n",
        "4 - 4\n"
      ],
      "metadata": {
        "colab": {
          "base_uri": "https://localhost:8080/"
        },
        "id": "epDC7QChkKX2",
        "outputId": "1f3f0fa0-546f-4525-8606-cd68b112b1aa"
      },
      "execution_count": null,
      "outputs": [
        {
          "output_type": "execute_result",
          "data": {
            "text/plain": [
              "0"
            ]
          },
          "metadata": {},
          "execution_count": 15
        }
      ]
    },
    {
      "cell_type": "code",
      "source": [
        "#Adição\n",
        "5 + 5"
      ],
      "metadata": {
        "colab": {
          "base_uri": "https://localhost:8080/"
        },
        "id": "k7PpffUXkYLO",
        "outputId": "547ba091-37f0-4319-f0d7-fb2428baeedd"
      },
      "execution_count": null,
      "outputs": [
        {
          "output_type": "execute_result",
          "data": {
            "text/plain": [
              "10"
            ]
          },
          "metadata": {},
          "execution_count": 16
        }
      ]
    },
    {
      "cell_type": "code",
      "source": [
        "#Maior ou\n",
        "10 != 5"
      ],
      "metadata": {
        "colab": {
          "base_uri": "https://localhost:8080/"
        },
        "id": "JBuwg82fkgyK",
        "outputId": "f41bc514-f50b-4789-c074-81a82a983990"
      },
      "execution_count": null,
      "outputs": [
        {
          "output_type": "execute_result",
          "data": {
            "text/plain": [
              "True"
            ]
          },
          "metadata": {},
          "execution_count": 14
        }
      ]
    },
    {
      "cell_type": "code",
      "source": [
        "x=10\n",
        "print( 'o valor é x',x/2)"
      ],
      "metadata": {
        "colab": {
          "base_uri": "https://localhost:8080/"
        },
        "id": "clNIsK7klFTY",
        "outputId": "ae182896-ad51-4425-865f-8bf45546458b"
      },
      "execution_count": null,
      "outputs": [
        {
          "output_type": "stream",
          "name": "stdout",
          "text": [
            "o valor é x 5.0\n"
          ]
        }
      ]
    },
    {
      "cell_type": "code",
      "source": [
        "y = 5\n",
        "print('eu tenho',y, ' juntando com o valor do amigo que é',x)\n",
        "print(' Vai da ',x+y)"
      ],
      "metadata": {
        "colab": {
          "base_uri": "https://localhost:8080/"
        },
        "id": "mK3LIUaSliju",
        "outputId": "1d3f4278-496f-4966-dd03-7ef15bdea76e"
      },
      "execution_count": null,
      "outputs": [
        {
          "output_type": "stream",
          "name": "stdout",
          "text": [
            "eu tenho 5  juntando com o valor do amigo que é 10\n",
            " Vai da  15\n"
          ]
        }
      ]
    },
    {
      "cell_type": "code",
      "source": [
        "num= '100'\n",
        "num_convert=int(num)\n",
        "num_float=float(num)\n",
        "print('num,float_num')"
      ],
      "metadata": {
        "colab": {
          "base_uri": "https://localhost:8080/"
        },
        "id": "-Ld1jzCsmUcu",
        "outputId": "c3dd58e5-fe03-4e7a-96f1-bb105e000e2a"
      },
      "execution_count": null,
      "outputs": [
        {
          "output_type": "stream",
          "name": "stdout",
          "text": [
            "num,float_num\n"
          ]
        }
      ]
    },
    {
      "cell_type": "code",
      "source": [
        "nome=' Palo Alexsandro'\n",
        "print('nome',type(nome))\n",
        "\n",
        "x = 10\n",
        "print('x',type(x))\n",
        "num='100'\n",
        "num_convert=int(num)\n",
        "print('num_convert',type(num_convert))\n",
        "\n",
        "num_float=float(num)\n",
        "print('num_float',num_float)"
      ],
      "metadata": {
        "id": "LTrWicYgIa8F",
        "colab": {
          "base_uri": "https://localhost:8080/"
        },
        "outputId": "7cc8aa02-fe1b-44d0-c685-d6845faf7acd"
      },
      "execution_count": null,
      "outputs": [
        {
          "output_type": "stream",
          "name": "stdout",
          "text": [
            "nome <class 'str'>\n",
            "x <class 'int'>\n",
            "num_convert <class 'int'>\n",
            "num_float 100.0\n"
          ]
        }
      ]
    },
    {
      "cell_type": "code",
      "source": [
        "nome=input(\"Qual o seu nome\")  # Aguardando o usúario\n",
        "print(nome)"
      ],
      "metadata": {
        "id": "7J0A1XrKM6k1",
        "colab": {
          "base_uri": "https://localhost:8080/"
        },
        "outputId": "700951df-ee13-45a6-c787-51851a3a515f"
      },
      "execution_count": null,
      "outputs": [
        {
          "output_type": "stream",
          "name": "stdout",
          "text": [
            "Qual o seu nome\n",
            "\n"
          ]
        }
      ]
    },
    {
      "cell_type": "code",
      "source": [
        "nome=input(' Qual o seu nome?')\n",
        "print(nome)"
      ],
      "metadata": {
        "colab": {
          "base_uri": "https://localhost:8080/"
        },
        "id": "kazZNwUZfp9f",
        "outputId": "63f98602-6861-4d16-e0b2-f63ef5cae9b4"
      },
      "execution_count": null,
      "outputs": [
        {
          "output_type": "stream",
          "name": "stdout",
          "text": [
            " Qual o seu nome? Pablo \n",
            " Pablo \n"
          ]
        }
      ]
    },
    {
      "cell_type": "code",
      "source": [
        "x=10\n",
        "print('x',type(x))\n",
        "num='200'\n",
        "num_convert=int(num)\n",
        "print('num_convert',type(num_convert))"
      ],
      "metadata": {
        "colab": {
          "base_uri": "https://localhost:8080/"
        },
        "id": "F2W9upWbi1ZI",
        "outputId": "1af8dd3f-c0e9-4c6f-9cbe-d58cc216db53"
      },
      "execution_count": null,
      "outputs": [
        {
          "output_type": "stream",
          "name": "stdout",
          "text": [
            "x <class 'int'>\n",
            "num_convert <class 'int'>\n"
          ]
        }
      ]
    },
    {
      "cell_type": "code",
      "source": [
        "print(' Conhecendo as variável!')"
      ],
      "metadata": {
        "colab": {
          "base_uri": "https://localhost:8080/"
        },
        "id": "iJ1Ky_Pwz96d",
        "outputId": "536d7129-35ae-4fa9-e7e2-74d4f93c2dc4"
      },
      "execution_count": null,
      "outputs": [
        {
          "output_type": "stream",
          "name": "stdout",
          "text": [
            " Conhecendo as variável!\n"
          ]
        }
      ]
    },
    {
      "cell_type": "code",
      "source": [
        "x=10\n",
        "type(x)\n",
        "\n",
        "\n"
      ],
      "metadata": {
        "colab": {
          "base_uri": "https://localhost:8080/"
        },
        "id": "fgKlr-Ob0Rk0",
        "outputId": "61c9dc9f-fe29-4d20-da77-340b5f78841e"
      },
      "execution_count": null,
      "outputs": [
        {
          "output_type": "execute_result",
          "data": {
            "text/plain": [
              "int"
            ]
          },
          "metadata": {},
          "execution_count": 10
        }
      ]
    },
    {
      "cell_type": "code",
      "source": [
        "num='100'\n",
        "num_float=float(num)\n",
        "print('num_folat',float(num))\n",
        "num_convert=int(num)\n",
        "print('num_convert',type(num_convert))"
      ],
      "metadata": {
        "colab": {
          "base_uri": "https://localhost:8080/"
        },
        "id": "-PHt-Kbc1M_M",
        "outputId": "d531c9aa-d49d-4ba8-b24a-acd39ef05a9d"
      },
      "execution_count": null,
      "outputs": [
        {
          "output_type": "stream",
          "name": "stdout",
          "text": [
            "num_folat 100.0\n",
            "num_convert <class 'int'>\n"
          ]
        }
      ]
    },
    {
      "cell_type": "code",
      "source": [
        "#Maior\n",
        "10 > 5\n",
        "\n",
        "\n",
        "\n"
      ],
      "metadata": {
        "colab": {
          "base_uri": "https://localhost:8080/"
        },
        "id": "P-Cm39fW2UZf",
        "outputId": "bf9e1a1b-82aa-4638-ef9f-b9c5e78dafed"
      },
      "execution_count": null,
      "outputs": [
        {
          "output_type": "execute_result",
          "data": {
            "text/plain": [
              "True"
            ]
          },
          "metadata": {},
          "execution_count": 23
        }
      ]
    },
    {
      "cell_type": "markdown",
      "source": [
        "* not"
      ],
      "metadata": {
        "id": "9mGrFps73guC"
      }
    },
    {
      "cell_type": "code",
      "source": [
        "not 10 > 5"
      ],
      "metadata": {
        "colab": {
          "base_uri": "https://localhost:8080/"
        },
        "id": "tcNguVRf3cI4",
        "outputId": "ccadbfd8-9918-4d6b-f3f3-f54728ed652f"
      },
      "execution_count": null,
      "outputs": [
        {
          "output_type": "execute_result",
          "data": {
            "text/plain": [
              "False"
            ]
          },
          "metadata": {},
          "execution_count": 27
        }
      ]
    },
    {
      "cell_type": "code",
      "source": [
        "print(10 < 20 and 5 < 8)  # v and v - v"
      ],
      "metadata": {
        "colab": {
          "base_uri": "https://localhost:8080/"
        },
        "id": "ZwFkxOQr3xJU",
        "outputId": "b884284c-f292-4e03-be88-4326a89c823c"
      },
      "execution_count": null,
      "outputs": [
        {
          "output_type": "stream",
          "name": "stdout",
          "text": [
            "True\n"
          ]
        }
      ]
    },
    {
      "cell_type": "code",
      "source": [
        "nota1 = float(input('Digite a nota1:'))\n",
        "nota2 = float(input('Digite a nota2:'))\n",
        "nota3 = float(input('Digite a nota3:'))\n",
        "Média = (nota1 + nota2 + nota3)/3\n",
        "\n",
        "if Média_aluno >=7:\n",
        "  print(f' o aluno foi aprovado com a média :{'media_aluno.2f}')\n"
      ],
      "metadata": {
        "colab": {
          "base_uri": "https://localhost:8080/",
          "height": 110
        },
        "id": "_vpJL6261R7h",
        "outputId": "66b1c969-0b2f-4b05-859f-30147a8a597d"
      },
      "execution_count": null,
      "outputs": [
        {
          "output_type": "error",
          "ename": "SyntaxError",
          "evalue": "invalid decimal literal (ipython-input-15-2998685108.py, line 7)",
          "traceback": [
            "\u001b[0;36m  File \u001b[0;32m\"/tmp/ipython-input-15-2998685108.py\"\u001b[0;36m, line \u001b[0;32m7\u001b[0m\n\u001b[0;31m    print(f' o alino foi aprovado com a média :{'media_aluno.2f}')\u001b[0m\n\u001b[0m                                                             ^\u001b[0m\n\u001b[0;31mSyntaxError\u001b[0m\u001b[0;31m:\u001b[0m invalid decimal literal\n"
          ]
        }
      ]
    },
    {
      "cell_type": "code",
      "source": [
        "#testando\n",
        "\n",
        "\n"
      ],
      "metadata": {
        "colab": {
          "base_uri": "https://localhost:8080/",
          "height": 237
        },
        "id": "JI2RrvDYRig3",
        "outputId": "0804cb8d-01ca-4fe4-ee2e-0763801cb3dd"
      },
      "execution_count": null,
      "outputs": [
        {
          "output_type": "stream",
          "name": "stdout",
          "text": [
            "comprei uma moto\n",
            "A moto custa 100\n"
          ]
        },
        {
          "output_type": "error",
          "ename": "ValueError",
          "evalue": "invalid literal for int() with base 10: ' e eu quero trocar por um carro'",
          "traceback": [
            "\u001b[0;31m---------------------------------------------------------------------------\u001b[0m",
            "\u001b[0;31mValueError\u001b[0m                                Traceback (most recent call last)",
            "\u001b[0;32m/tmp/ipython-input-4-127304851.py\u001b[0m in \u001b[0;36m<cell line: 0>\u001b[0;34m()\u001b[0m\n\u001b[1;32m      4\u001b[0m \u001b[0mx\u001b[0m \u001b[0;34m=\u001b[0m \u001b[0;36m100\u001b[0m\u001b[0;34m\u001b[0m\u001b[0;34m\u001b[0m\u001b[0m\n\u001b[1;32m      5\u001b[0m \u001b[0mprint\u001b[0m\u001b[0;34m(\u001b[0m\u001b[0;34m'A moto custa'\u001b[0m\u001b[0;34m,\u001b[0m\u001b[0mx\u001b[0m\u001b[0;34m)\u001b[0m\u001b[0;34m\u001b[0m\u001b[0;34m\u001b[0m\u001b[0m\n\u001b[0;32m----> 6\u001b[0;31m \u001b[0mmoto\u001b[0m\u001b[0;34m=\u001b[0m\u001b[0mint\u001b[0m\u001b[0;34m(\u001b[0m\u001b[0;34m' e eu quero trocar por um carro'\u001b[0m\u001b[0;34m)\u001b[0m\u001b[0;34m\u001b[0m\u001b[0;34m\u001b[0m\u001b[0m\n\u001b[0m\u001b[1;32m      7\u001b[0m \u001b[0mprint\u001b[0m\u001b[0;34m(\u001b[0m\u001b[0;34m'o carro cusca '\u001b[0m\u001b[0;34m,\u001b[0m\u001b[0mfloat_moto\u001b[0m\u001b[0;34m)\u001b[0m\u001b[0;34m\u001b[0m\u001b[0;34m\u001b[0m\u001b[0m\n",
            "\u001b[0;31mValueError\u001b[0m: invalid literal for int() with base 10: ' e eu quero trocar por um carro'"
          ]
        }
      ]
    },
    {
      "cell_type": "code",
      "source": [
        "#if\n",
        "if 50 > 15:\n",
        "  print('vardade')\n"
      ],
      "metadata": {
        "colab": {
          "base_uri": "https://localhost:8080/"
        },
        "id": "LUPGJvxU13pR",
        "outputId": "83f650de-ccec-488f-df67-1d82dfc03fdd"
      },
      "execution_count": null,
      "outputs": [
        {
          "output_type": "stream",
          "name": "stdout",
          "text": [
            "vardade\n"
          ]
        }
      ]
    },
    {
      "cell_type": "code",
      "source": [
        "#if/else\n",
        "print('Meus Amigos andando de moto')\n",
        "velo1=10\n",
        "velo3=80\n",
        "if velo1 > velo3:\n",
        "  print('Meu amigo da velo1 tava mas rápido')\n",
        "elif velo1 < velo3:\n",
        "  print('velo3 ta mais rápido')\n",
        "else:\n",
        "    print('os dois esta na mesma velocidade')\n",
        "\n"
      ],
      "metadata": {
        "colab": {
          "base_uri": "https://localhost:8080/"
        },
        "id": "u4BjdKSr2P7X",
        "outputId": "83237566-7b38-49ed-a5c0-63bb425cf033"
      },
      "execution_count": null,
      "outputs": [
        {
          "output_type": "stream",
          "name": "stdout",
          "text": [
            "Meus Amigos andando de moto\n",
            "velo3 ta mais rápido\n"
          ]
        }
      ]
    },
    {
      "cell_type": "code",
      "source": [
        "if (10 > 5) and (5 < 10):\n",
        "  print('verdade'):"
      ],
      "metadata": {
        "colab": {
          "base_uri": "https://localhost:8080/"
        },
        "id": "ZzTH9KFOBFu6",
        "outputId": "cdaab84a-aba9-43b5-d5f5-dfe9d41517ab"
      },
      "execution_count": null,
      "outputs": [
        {
          "output_type": "stream",
          "name": "stdout",
          "text": [
            "verdade\n"
          ]
        }
      ]
    },
    {
      "cell_type": "code",
      "source": [
        "print('Qual a média dos três alunos?')\n",
        "nota1= 5\n",
        "nota2=8\n",
        "nota3=5\n",
        "print('maior nota é a nota2')\n",
        "if nota1 + nota3:\n",
        "  print('essa duas nota soma',nota1 + nota3)\n",
        "elif nota1 + nota3:\n",
        "  print('As duas ta mais auta que a nota2')\n",
        "else:\n",
        "  print('São iguais')"
      ],
      "metadata": {
        "colab": {
          "base_uri": "https://localhost:8080/"
        },
        "id": "cKBLYQrDBjFM",
        "outputId": "dda91182-db6f-45ed-ebd4-9a5bb17dc40b"
      },
      "execution_count": null,
      "outputs": [
        {
          "output_type": "stream",
          "name": "stdout",
          "text": [
            "Qual a média dos três alunos?\n",
            "maior nota é a nota2\n",
            "essa duas nota soma 10\n"
          ]
        }
      ]
    },
    {
      "cell_type": "code",
      "source": [
        "list = [1,'pablo',6.0]\n",
        "type(list)"
      ],
      "metadata": {
        "colab": {
          "base_uri": "https://localhost:8080/"
        },
        "id": "6-J7XBTAdGpA",
        "outputId": "5bc3401f-db02-4f1c-f0df-7d7744a1f23d"
      },
      "execution_count": null,
      "outputs": [
        {
          "output_type": "execute_result",
          "data": {
            "text/plain": [
              "list"
            ]
          },
          "metadata": {},
          "execution_count": 6
        }
      ]
    },
    {
      "cell_type": "code",
      "source": [
        "tuple=(9,8)\n",
        "type(tuple)"
      ],
      "metadata": {
        "colab": {
          "base_uri": "https://localhost:8080/"
        },
        "id": "sHnNhWrCdlvD",
        "outputId": "455649ae-0720-4bf4-80dd-b856e6c2cb47"
      },
      "execution_count": null,
      "outputs": [
        {
          "output_type": "execute_result",
          "data": {
            "text/plain": [
              "tuple"
            ]
          },
          "metadata": {},
          "execution_count": 11
        }
      ]
    },
    {
      "cell_type": "code",
      "source": [
        "list(pablo , 8.9 , 3)\n",
        "list.append( 3 , pablo,8,9)"
      ],
      "metadata": {
        "colab": {
          "base_uri": "https://localhost:8080/",
          "height": 164
        },
        "id": "AOAyNIFf7vZ5",
        "outputId": "01c72d13-7617-4ab7-9e8e-2b46374e9e59"
      },
      "execution_count": null,
      "outputs": [
        {
          "output_type": "error",
          "ename": "NameError",
          "evalue": "name 'pablo' is not defined",
          "traceback": [
            "\u001b[0;31m---------------------------------------------------------------------------\u001b[0m",
            "\u001b[0;31mNameError\u001b[0m                                 Traceback (most recent call last)",
            "\u001b[0;32m/tmp/ipython-input-699084770.py\u001b[0m in \u001b[0;36m<cell line: 0>\u001b[0;34m()\u001b[0m\n\u001b[0;32m----> 1\u001b[0;31m \u001b[0mlist\u001b[0m\u001b[0;34m(\u001b[0m\u001b[0mpablo\u001b[0m \u001b[0;34m,\u001b[0m \u001b[0;36m8.9\u001b[0m \u001b[0;34m,\u001b[0m \u001b[0;36m3\u001b[0m\u001b[0;34m)\u001b[0m\u001b[0;34m\u001b[0m\u001b[0;34m\u001b[0m\u001b[0m\n\u001b[0m\u001b[1;32m      2\u001b[0m \u001b[0mlist\u001b[0m\u001b[0;34m.\u001b[0m\u001b[0mappend\u001b[0m\u001b[0;34m(\u001b[0m \u001b[0;36m3\u001b[0m \u001b[0;34m,\u001b[0m \u001b[0mpablo\u001b[0m\u001b[0;34m,\u001b[0m\u001b[0;36m8\u001b[0m\u001b[0;34m,\u001b[0m\u001b[0;36m9\u001b[0m\u001b[0;34m)\u001b[0m\u001b[0;34m\u001b[0m\u001b[0;34m\u001b[0m\u001b[0m\n",
            "\u001b[0;31mNameError\u001b[0m: name 'pablo' is not defined"
          ]
        }
      ]
    },
    {
      "cell_type": "code",
      "source": [
        "list = [1,'pablo' ,5.5]\n",
        "list.append('alexsandro')\n",
        "print(list)\n",
        "print(list[2])"
      ],
      "metadata": {
        "colab": {
          "base_uri": "https://localhost:8080/"
        },
        "id": "AystfMxBCgUV",
        "outputId": "77b2f060-7f7c-4b31-b835-7d94ea92d917"
      },
      "execution_count": null,
      "outputs": [
        {
          "output_type": "stream",
          "name": "stdout",
          "text": [
            "[1, 'pablo', 5.5, 'alexsandro']\n",
            "5.5\n"
          ]
        }
      ]
    },
    {
      "cell_type": "code",
      "source": [
        "#tupla\n",
        "tupla = (3, 'pablo' , 3.3)\n",
        "print(tupla)\n"
      ],
      "metadata": {
        "colab": {
          "base_uri": "https://localhost:8080/"
        },
        "id": "3vmjmIolDYYk",
        "outputId": "8453de2a-8758-4515-a6f3-1efc69e66d8a"
      },
      "execution_count": null,
      "outputs": [
        {
          "output_type": "stream",
          "name": "stdout",
          "text": [
            "(3, 'pablo', 3.3)\n"
          ]
        }
      ]
    },
    {
      "cell_type": "code",
      "source": [
        "#Dicionário\n",
        "dicionário = {'nome':'pablo','cidade':'sento sé'}\n",
        "type(dicionário)\n",
        "print(dicionário)\n",
        "print(dicionário['cidade'])"
      ],
      "metadata": {
        "colab": {
          "base_uri": "https://localhost:8080/"
        },
        "id": "Rj7MdidZH2jU",
        "outputId": "058b461a-ea8e-47d6-9114-2b0b34a40a1e"
      },
      "execution_count": null,
      "outputs": [
        {
          "output_type": "stream",
          "name": "stdout",
          "text": [
            "{'nome': 'pablo', 'cidade': 'sento sé'}\n",
            "sento sé\n"
          ]
        }
      ]
    },
    {
      "cell_type": "code",
      "source": [
        "x = 10\n",
        "print('o valor de x é',x)\n",
        "print('O valor de x é',x,'e o dobro é',x * 2)\n",
        "\n",
        "y = 5\n",
        "print(' O o valor de y é', y)\n",
        "\n",
        "x = 10 ; z = 5 ; x + y"
      ],
      "metadata": {
        "id": "RAe806LUXbEz",
        "colab": {
          "base_uri": "https://localhost:8080/"
        },
        "outputId": "f9dfa406-02e5-461e-afca-6e4ce3965edb"
      },
      "execution_count": null,
      "outputs": [
        {
          "output_type": "stream",
          "name": "stdout",
          "text": [
            "o valor de x é 10\n",
            "O valor de x é 10 e o dobro é 20\n",
            " O o valor de y é 5\n"
          ]
        },
        {
          "output_type": "execute_result",
          "data": {
            "text/plain": [
              "15"
            ]
          },
          "metadata": {},
          "execution_count": 24
        }
      ]
    },
    {
      "cell_type": "code",
      "source": [
        "oNme = input(\"Qual é o seu nome?\")\n",
        "print(nome)"
      ],
      "metadata": {
        "id": "UaNYVaGQareH",
        "colab": {
          "base_uri": "https://localhost:8080/",
          "height": 182
        },
        "outputId": "3840adb1-cab4-4b31-d291-b7c8737cfd1f"
      },
      "execution_count": null,
      "outputs": [
        {
          "name": "stdout",
          "output_type": "stream",
          "text": [
            "Qual é o seu nome? oan\n"
          ]
        },
        {
          "output_type": "error",
          "ename": "TypeError",
          "evalue": "'str' object is not callable",
          "traceback": [
            "\u001b[0;31m---------------------------------------------------------------------------\u001b[0m",
            "\u001b[0;31mTypeError\u001b[0m                                 Traceback (most recent call last)",
            "\u001b[0;32m/tmp/ipython-input-319370477.py\u001b[0m in \u001b[0;36m<cell line: 0>\u001b[0;34m()\u001b[0m\n\u001b[1;32m      1\u001b[0m \u001b[0moNme\u001b[0m \u001b[0;34m=\u001b[0m \u001b[0minput\u001b[0m\u001b[0;34m(\u001b[0m\u001b[0;34m\"Qual é o seu nome?\"\u001b[0m\u001b[0;34m)\u001b[0m\u001b[0;34m\u001b[0m\u001b[0;34m\u001b[0m\u001b[0m\n\u001b[0;32m----> 2\u001b[0;31m \u001b[0mprint\u001b[0m\u001b[0;34m(\u001b[0m\u001b[0mnome\u001b[0m\u001b[0;34m)\u001b[0m\u001b[0;34m\u001b[0m\u001b[0;34m\u001b[0m\u001b[0m\n\u001b[0m",
            "\u001b[0;31mTypeError\u001b[0m: 'str' object is not callable"
          ]
        }
      ]
    },
    {
      "cell_type": "markdown",
      "source": [
        "# Nova seção"
      ],
      "metadata": {
        "id": "rKMsg-XUiCC6"
      }
    },
    {
      "cell_type": "code",
      "source": [
        "valor = input('Digite um valor')\n",
        "print(valor)"
      ],
      "metadata": {
        "colab": {
          "base_uri": "https://localhost:8080/"
        },
        "id": "DbJHW2rghRxe",
        "outputId": "3e34ab96-863f-4fbe-9f01-c8de8774877d"
      },
      "execution_count": null,
      "outputs": [
        {
          "output_type": "stream",
          "name": "stdout",
          "text": [
            "Digite um valor 9\n",
            " 9\n"
          ]
        }
      ]
    },
    {
      "cell_type": "code",
      "source": [
        "idade=input('Qual a sua idade?')\n",
        "print(idade)\n",
        "print( ' Sua idade é ',idade)\n",
        "idade_convert=int(idade)\n",
        "idade=idade_convert-8\n",
        "print('sua idade agora é')\n",
        "print(idade)"
      ],
      "metadata": {
        "colab": {
          "base_uri": "https://localhost:8080/"
        },
        "id": "br8ghhyfDmL5",
        "outputId": "8b924cd8-9066-4ff7-b2e5-4251155dbff0"
      },
      "execution_count": null,
      "outputs": [
        {
          "output_type": "stream",
          "name": "stdout",
          "text": [
            "Qual a sua idade? 18\n",
            " 18\n",
            " Sua idade é   18\n",
            "sua idade agora é\n",
            "10\n"
          ]
        }
      ]
    },
    {
      "cell_type": "code",
      "source": [
        "média=input('qual foi a sua média no semestre?')\n",
        "print(média)\n",
        "mes1=input('qual o valor da sua nota do primeiro bimestre?')\n",
        "mes2=input('qual o valor da sua nota do segundo bimestre?')\n",
        "mes3=input('qual o valor da sua nota do terceiro bimestre?')\n",
        "\n",
        "\n",
        "\n",
        "\n",
        "\n",
        "\n"
      ],
      "metadata": {
        "colab": {
          "base_uri": "https://localhost:8080/"
        },
        "id": "9Vh_FJEqk30F",
        "outputId": "4fe101cc-8730-4dcd-e873-def99be72ae8"
      },
      "execution_count": null,
      "outputs": [
        {
          "name": "stdout",
          "output_type": "stream",
          "text": [
            "qual foi a sua média no semestre? 10\n",
            " 10\n",
            "qual o valor da sua nota do primeiro bimestre? 12\n",
            "qual o valor da sua nota do segundo bimestre? 5\n",
            "qual o valor da sua nota do terceiro bimestre? 7\n"
          ]
        }
      ]
    },
    {
      "cell_type": "code",
      "source": [
        " mes1 = 7\n",
        " mes2 = 5\n",
        " mes3 = 7\n",
        "\n",
        "print(' nota boa')\n",
        "\n",
        "if mes1 > mes3:\n",
        "  print('mes1 maior que o mes2')\n",
        "elif mes1 < mes3:\n",
        "    print('mes3 maior que o mes1')"
      ],
      "metadata": {
        "colab": {
          "base_uri": "https://localhost:8080/"
        },
        "id": "dACPWLIFrrkU",
        "outputId": "6224062b-bf9b-4238-c6c3-a45d4226e07d"
      },
      "execution_count": null,
      "outputs": [
        {
          "output_type": "stream",
          "name": "stdout",
          "text": [
            " nota boa\n"
          ]
        }
      ]
    },
    {
      "cell_type": "code",
      "source": [
        "x = 90\n",
        "type(x)\n",
        "\n",
        "\n",
        "num = '200'\n",
        "num_convert = int(num)\n",
        "print('num_convert',type('num'))\n",
        "print('num_convert',type(num_convert))\n",
        "\n",
        "\n",
        "num_float = float(num)\n",
        "print('num_float',(num_float))"
      ],
      "metadata": {
        "colab": {
          "base_uri": "https://localhost:8080/"
        },
        "id": "EIf9pB5ys0Px",
        "outputId": "6ec19e95-bfd0-4194-b495-b66ee5c2b672"
      },
      "execution_count": null,
      "outputs": [
        {
          "output_type": "stream",
          "name": "stdout",
          "text": [
            "num_convert <class 'str'>\n",
            "num_convert <class 'int'>\n",
            "num_float 200.0\n"
          ]
        }
      ]
    },
    {
      "cell_type": "code",
      "source": [
        "num1 = int(input('Digite o primeiro número: '))\n",
        "num2 = int(input('Digite o segundo número: '))\n",
        "operação =(input('Digite a operação desejada: '))\n",
        "\n",
        "match operação:\n",
        "    case '+':\n",
        "       res = num1 + num2\n",
        "    case '-':\n",
        "       res = num1 - num2\n",
        "    case '*':\n",
        "       res = num1 * num2\n",
        "    case '/':\n",
        "       res = num1 / num2\n",
        "    case '//':\n",
        "print(f'resultado {res}')"
      ],
      "metadata": {
        "colab": {
          "base_uri": "https://localhost:8080/",
          "height": 110
        },
        "id": "0RYMkHbYusMm",
        "outputId": "399f6acc-9a65-4d6a-fb43-550162b64126"
      },
      "execution_count": null,
      "outputs": [
        {
          "output_type": "error",
          "ename": "IndentationError",
          "evalue": "expected an indented block after 'case' statement on line 14 (ipython-input-3340801292.py, line 15)",
          "traceback": [
            "\u001b[0;36m  File \u001b[0;32m\"/tmp/ipython-input-3340801292.py\"\u001b[0;36m, line \u001b[0;32m15\u001b[0m\n\u001b[0;31m    print(f'resultado {res}')\u001b[0m\n\u001b[0m                             ^\u001b[0m\n\u001b[0;31mIndentationError\u001b[0m\u001b[0;31m:\u001b[0m expected an indented block after 'case' statement on line 14\n"
          ]
        }
      ]
    }
  ]
}